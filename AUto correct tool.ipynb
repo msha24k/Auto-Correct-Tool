{
 "cells": [
  {
   "cell_type": "code",
   "execution_count": 1,
   "id": "2ad471d5",
   "metadata": {},
   "outputs": [
    {
     "name": "stdout",
     "output_type": "stream",
     "text": [
      "Collecting pyspellchecker\n",
      "  Downloading pyspellchecker-0.7.2-py3-none-any.whl (3.4 MB)\n",
      "     ---------------------------------------- 0.0/3.4 MB ? eta -:--:--\n",
      "     ---------------------------------------- 0.0/3.4 MB 1.3 MB/s eta 0:00:03\n",
      "     - -------------------------------------- 0.1/3.4 MB 1.3 MB/s eta 0:00:03\n",
      "     - -------------------------------------- 0.2/3.4 MB 1.1 MB/s eta 0:00:03\n",
      "     -- ------------------------------------- 0.2/3.4 MB 1.2 MB/s eta 0:00:03\n",
      "     --- ------------------------------------ 0.3/3.4 MB 1.2 MB/s eta 0:00:03\n",
      "     ---- ----------------------------------- 0.4/3.4 MB 1.3 MB/s eta 0:00:03\n",
      "     ----- ---------------------------------- 0.5/3.4 MB 1.4 MB/s eta 0:00:03\n",
      "     ------ --------------------------------- 0.6/3.4 MB 1.5 MB/s eta 0:00:02\n",
      "     ------- -------------------------------- 0.6/3.4 MB 1.5 MB/s eta 0:00:02\n",
      "     -------- ------------------------------- 0.7/3.4 MB 1.6 MB/s eta 0:00:02\n",
      "     -------- ------------------------------- 0.7/3.4 MB 1.6 MB/s eta 0:00:02\n",
      "     --------- ------------------------------ 0.8/3.4 MB 1.5 MB/s eta 0:00:02\n",
      "     ----------- ---------------------------- 0.9/3.4 MB 1.6 MB/s eta 0:00:02\n",
      "     ------------ --------------------------- 1.1/3.4 MB 1.7 MB/s eta 0:00:02\n",
      "     -------------- ------------------------- 1.2/3.4 MB 1.7 MB/s eta 0:00:02\n",
      "     --------------- ------------------------ 1.3/3.4 MB 1.8 MB/s eta 0:00:02\n",
      "     ----------------- ---------------------- 1.5/3.4 MB 1.8 MB/s eta 0:00:02\n",
      "     ------------------- -------------------- 1.6/3.4 MB 1.9 MB/s eta 0:00:01\n",
      "     -------------------- ------------------- 1.8/3.4 MB 2.0 MB/s eta 0:00:01\n",
      "     -------------------- ------------------- 1.8/3.4 MB 1.9 MB/s eta 0:00:01\n",
      "     --------------------- ------------------ 1.8/3.4 MB 1.8 MB/s eta 0:00:01\n",
      "     ---------------------- ----------------- 1.9/3.4 MB 1.8 MB/s eta 0:00:01\n",
      "     ---------------------- ----------------- 2.0/3.4 MB 1.8 MB/s eta 0:00:01\n",
      "     ----------------------- ---------------- 2.0/3.4 MB 1.8 MB/s eta 0:00:01\n",
      "     ------------------------ --------------- 2.1/3.4 MB 1.7 MB/s eta 0:00:01\n",
      "     ------------------------ --------------- 2.1/3.4 MB 1.7 MB/s eta 0:00:01\n",
      "     ------------------------- -------------- 2.2/3.4 MB 1.7 MB/s eta 0:00:01\n",
      "     ------------------------- -------------- 2.2/3.4 MB 1.7 MB/s eta 0:00:01\n",
      "     -------------------------- ------------- 2.3/3.4 MB 1.7 MB/s eta 0:00:01\n",
      "     --------------------------- ------------ 2.3/3.4 MB 1.7 MB/s eta 0:00:01\n",
      "     --------------------------- ------------ 2.4/3.4 MB 1.6 MB/s eta 0:00:01\n",
      "     ---------------------------- ----------- 2.5/3.4 MB 1.6 MB/s eta 0:00:01\n",
      "     ----------------------------- ---------- 2.5/3.4 MB 1.6 MB/s eta 0:00:01\n",
      "     ----------------------------- ---------- 2.6/3.4 MB 1.6 MB/s eta 0:00:01\n",
      "     ------------------------------ --------- 2.6/3.4 MB 1.6 MB/s eta 0:00:01\n",
      "     ------------------------------ --------- 2.6/3.4 MB 1.6 MB/s eta 0:00:01\n",
      "     ------------------------------- -------- 2.7/3.4 MB 1.5 MB/s eta 0:00:01\n",
      "     ------------------------------- -------- 2.7/3.4 MB 1.5 MB/s eta 0:00:01\n",
      "     -------------------------------- ------- 2.8/3.4 MB 1.5 MB/s eta 0:00:01\n",
      "     -------------------------------- ------- 2.8/3.4 MB 1.5 MB/s eta 0:00:01\n",
      "     --------------------------------- ------ 2.8/3.4 MB 1.5 MB/s eta 0:00:01\n",
      "     --------------------------------- ------ 2.9/3.4 MB 1.4 MB/s eta 0:00:01\n",
      "     --------------------------------- ------ 2.9/3.4 MB 1.4 MB/s eta 0:00:01\n",
      "     ---------------------------------- ----- 3.0/3.4 MB 1.4 MB/s eta 0:00:01\n",
      "     ----------------------------------- ---- 3.0/3.4 MB 1.4 MB/s eta 0:00:01\n",
      "     ------------------------------------ --- 3.2/3.4 MB 1.4 MB/s eta 0:00:01\n",
      "     ------------------------------------- -- 3.2/3.4 MB 1.5 MB/s eta 0:00:01\n",
      "     -------------------------------------- - 3.3/3.4 MB 1.5 MB/s eta 0:00:01\n",
      "     ---------------------------------------  3.4/3.4 MB 1.5 MB/s eta 0:00:01\n",
      "     ---------------------------------------- 3.4/3.4 MB 1.4 MB/s eta 0:00:00\n",
      "Installing collected packages: pyspellchecker\n",
      "Successfully installed pyspellchecker-0.7.2\n",
      "Note: you may need to restart the kernel to use updated packages.\n"
     ]
    },
    {
     "name": "stderr",
     "output_type": "stream",
     "text": [
      "\n",
      "[notice] A new release of pip is available: 23.0.1 -> 23.1.2\n",
      "[notice] To update, run: C:\\Users\\manis\\AppData\\Local\\Microsoft\\WindowsApps\\PythonSoftwareFoundation.Python.3.10_qbz5n2kfra8p0\\python.exe -m pip install --upgrade pip\n"
     ]
    }
   ],
   "source": [
    "pip install pyspellchecker"
   ]
  },
  {
   "cell_type": "code",
   "execution_count": 5,
   "id": "2eb683c0",
   "metadata": {},
   "outputs": [
    {
     "name": "stdout",
     "output_type": "stream",
     "text": [
      "Misspelled word:  festeval\n",
      "Suggested words:  ['Festival', 'Festivals']\n"
     ]
    }
   ],
   "source": [
    "import difflib\n",
    "\n",
    "def suggest_words(word, words):\n",
    "    # use the get_close_matches method from difflib\n",
    "    matches = difflib.get_close_matches(word, words)\n",
    "    \n",
    "    # return the list of suggested words\n",
    "    return matches\n",
    "\n",
    "# example usage\n",
    "\n",
    "# misspelled word\n",
    "word = \"festeval\"\n",
    "\n",
    "# list of possible correct words\n",
    "words = [\"Festival\", \"Festivals\", \"Function\"]\n",
    "\n",
    "# suggest words that are closest to the misspelled word\n",
    "suggested_words = suggest_words(word, words)\n",
    "\n",
    "print(\"Misspelled word: \", word)\n",
    "print(\"Suggested words: \", suggested_words)"
   ]
  },
  {
   "cell_type": "code",
   "execution_count": null,
   "id": "f0fcf21f",
   "metadata": {},
   "outputs": [],
   "source": [
    "\n",
    "\n",
    "\n"
   ]
  },
  {
   "cell_type": "code",
   "execution_count": null,
   "id": "c0471847",
   "metadata": {},
   "outputs": [],
   "source": []
  }
 ],
 "metadata": {
  "kernelspec": {
   "display_name": "Python 3 (ipykernel)",
   "language": "python",
   "name": "python3"
  },
  "language_info": {
   "codemirror_mode": {
    "name": "ipython",
    "version": 3
   },
   "file_extension": ".py",
   "mimetype": "text/x-python",
   "name": "python",
   "nbconvert_exporter": "python",
   "pygments_lexer": "ipython3",
   "version": "3.10.11"
  }
 },
 "nbformat": 4,
 "nbformat_minor": 5
}
